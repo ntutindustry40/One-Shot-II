{
 "cells": [
  {
   "cell_type": "code",
   "execution_count": null,
   "metadata": {},
   "outputs": [],
   "source": [
    "# -*- coding: utf-8 -*-\n",
    "\"\"\"\n",
    "Created on Mon Jun  8 14:24:27 2020\n",
    "\n",
    "@author: gary1\n",
    "\"\"\"\n",
    "\n",
    "import cv2\n",
    "import os\n",
    "import tensorflow as tf\n",
    "import keras.backend.tensorflow_backend as KTF\n",
    "def get_session(gpu_fraction=0.3):\n",
    "    num_threads = os.environ.get('OMP_NUM_THREADS')\n",
    "    gpu_options = tf.GPUOptions(per_process_gpu_memory_fraction=gpu_fraction)\n",
    "    if num_threads:\n",
    "        return tf.Session(config=tf.ConfigProto(\n",
    "            gpu_options=gpu_options, intra_op_parallelism_threads=num_threads))\n",
    "    else:\n",
    "        return tf.Session(config=tf.ConfigProto(gpu_options=gpu_options))\n",
    "\n",
    "KTF.set_session(get_session(0.3)) \n",
    "\n",
    "outputFolder = \"D:/Work/Model/\"\n",
    "if not os.path.exists(outputFolder):\n",
    "    os.makedirs(outputFolder)\n",
    "# 選擇第二隻攝影機\n",
    "\n",
    "cap = cv2.VideoCapture(0)\n",
    "cap.set(cv2.CAP_PROP_FRAME_WIDTH, 512)\n",
    "cap.set(cv2.CAP_PROP_FRAME_HEIGHT, 512)\n",
    "a = input(\"INPUT PICTURE NAME:\")#名字/編號/有無光影YN/次數_十位數EX.00\n",
    "\n",
    "ResultFolder = \"D:/Work/Model/\"+a\n",
    "if not os.path.exists(ResultFolder):\n",
    "        os.makedirs(ResultFolder)\n",
    "path = \"%s/\"+a+\".jpg\"\n",
    "path2 = \"%s/\"+a+\"_0\"+\".jpg\"\n",
    "\n",
    "count=0\n",
    "\n",
    "while(True):\n",
    "    # 從攝影機擷取一張影像\n",
    "    ret, frame = cap.read(0)\n",
    "    frame = frame[41:441, 57:457]\n",
    "    r = 1000.0 / frame.shape[1]\n",
    "    dim = (1000, int(frame.shape[0] * r))\n",
    "    \n",
    "    # 执行图片缩放，并显示\n",
    "    frame = cv2.resize(frame, dim, interpolation=cv2.INTER_AREA)\n",
    "    cv2.imwrite(path  % (outputFolder), frame)\n",
    "    cv2.rectangle(frame, (459, 459), (542, 542), (0, 255, 0), 2)\n",
    "    cv2.namedWindow('frame', cv2.WINDOW_NORMAL)\n",
    "    \n",
    "    # 顯示圖片\n",
    "    cv2.imshow('frame', frame)  \n",
    "    \n",
    "    #if cv2.waitKey(33) == ord('a'):\n",
    "        #print \"pressed a\"\n",
    "    if cv2.waitKey(10) == ord('q'):\n",
    "        print (\"capture picture\")\n",
    "        cv2.imwrite(\"D:/Work/Picture/Result/\"+a+\"/\"+str(count)+\".jpeg\", frame)\n",
    "        count+=1\n",
    "        \n",
    "    # 若按下 q 鍵則離開迴圈\n",
    "    k = cv2.waitKey(30) & 0xff\n",
    "    \n",
    "    if k == 27:  # press 'ESC' to quit\n",
    "        cv2.imwrite(path2  % (outputFolder), frame)\n",
    "    break\n",
    "    \n",
    "cap.release()\n",
    "cv2.destroyAllWindows()"
   ]
  }
 ],
 "metadata": {
  "hide_input": false,
  "kernelspec": {
   "display_name": "Python 3",
   "language": "python",
   "name": "python3"
  },
  "language_info": {
   "codemirror_mode": {
    "name": "ipython",
    "version": 3
   },
   "file_extension": ".py",
   "mimetype": "text/x-python",
   "name": "python",
   "nbconvert_exporter": "python",
   "pygments_lexer": "ipython3",
   "version": "3.7.7"
  },
  "toc": {
   "base_numbering": 1,
   "nav_menu": {},
   "number_sections": true,
   "sideBar": true,
   "skip_h1_title": false,
   "title_cell": "Table of Contents",
   "title_sidebar": "Contents",
   "toc_cell": false,
   "toc_position": {},
   "toc_section_display": true,
   "toc_window_display": false
  },
  "varInspector": {
   "cols": {
    "lenName": 16,
    "lenType": 16,
    "lenVar": 40
   },
   "kernels_config": {
    "python": {
     "delete_cmd_postfix": "",
     "delete_cmd_prefix": "del ",
     "library": "var_list.py",
     "varRefreshCmd": "print(var_dic_list())"
    },
    "r": {
     "delete_cmd_postfix": ") ",
     "delete_cmd_prefix": "rm(",
     "library": "var_list.r",
     "varRefreshCmd": "cat(var_dic_list()) "
    }
   },
   "types_to_exclude": [
    "module",
    "function",
    "builtin_function_or_method",
    "instance",
    "_Feature"
   ],
   "window_display": false
  }
 },
 "nbformat": 4,
 "nbformat_minor": 4
}
