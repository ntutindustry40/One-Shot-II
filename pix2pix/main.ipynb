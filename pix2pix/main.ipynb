{
 "cells": [
  {
   "cell_type": "code",
   "execution_count": null,
   "metadata": {},
   "outputs": [],
   "source": [
    "from pix2pix import train, test\n",
    "import os\n",
    "\n",
    "templates_path = \"E:/107568025(F)/picture/pix2pix_out/\"\n",
    "\n",
    "templates = os.listdir(templates_path)\n",
    "for template in templates:\n",
    "    models_path = templates_path + template + \"/trainout/\"\n",
    "    \n",
    "    files = os.listdir(models_path)\n",
    "    \n",
    "    remove_files = [\"index.html\", \"images\", \"checkpoint\"]\n",
    "    for _file in remove_files:\n",
    "        files.remove(_file)\n",
    "\n",
    "    for index in range(len(files)):\n",
    "        files[index] = int(files[index].split(\".\")[0].split(\"-\")[1])\n",
    "    \n",
    "    selected_model = str(max(files))\n",
    "\n",
    "    input_dir = \"F:/0422/training/pix2pix/test/\"\n",
    "    output_dir = \"{}template{}/\".format(input_dir, template)\n",
    "    test(input_dir, output_dir, \"{}model-{}\".format(models_path, selected_model))\n",
    "\n",
    "    # for many folders\n",
    "    # data_types = ['training', 'test']\n",
    "    # for data_type in data_types:\n",
    "    #     for floor in range(11):\n",
    "    #         input_dir = \"F:/0422/{}/pix2pix/{}f\".format(data_type, floor)\n",
    "    #         output_dir = \"{}_template_{}/\".format(input_dir, template)\n",
    "    #         test(input_dir, output_dir, \"{}model-{}\".format(models_path, selected_model))"
   ]
  }
 ],
 "metadata": {
  "language_info": {
   "codemirror_mode": {
    "name": "ipython",
    "version": 3
   },
   "file_extension": ".py",
   "mimetype": "text/x-python",
   "name": "python",
   "nbconvert_exporter": "python",
   "pygments_lexer": "ipython3",
   "version": 3
  },
  "orig_nbformat": 2
 },
 "nbformat": 4,
 "nbformat_minor": 2
}